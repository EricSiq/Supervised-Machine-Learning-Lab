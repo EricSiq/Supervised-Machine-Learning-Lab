{
  "nbformat": 4,
  "nbformat_minor": 0,
  "metadata": {
    "colab": {
      "provenance": [],
      "authorship_tag": "ABX9TyPidV7U2nEqeFeSIcofrzSN",
      "include_colab_link": true
    },
    "kernelspec": {
      "name": "python3",
      "display_name": "Python 3"
    },
    "language_info": {
      "name": "python"
    }
  },
  "cells": [
    {
      "cell_type": "markdown",
      "metadata": {
        "id": "view-in-github",
        "colab_type": "text"
      },
      "source": [
        "<a href=\"https://colab.research.google.com/github/EricSiq/Supervised-Machine-Learning-Lab/blob/main/SML_KNearest_Neighbour.ipynb\" target=\"_parent\"><img src=\"https://colab.research.google.com/assets/colab-badge.svg\" alt=\"Open In Colab\"/></a>"
      ]
    },
    {
      "cell_type": "code",
      "execution_count": 17,
      "metadata": {
        "id": "nUp5G6F4kaKd"
      },
      "outputs": [],
      "source": [
        "import numpy as np\n",
        "import pandas as pd\n",
        "import matplotlib.pyplot as plt\n",
        "import seaborn as sns\n",
        "import warnings\n",
        "from sklearn.datasets import load_iris\n",
        "from sklearn.model_selection import train_test_split\n",
        "from sklearn.neighbors import KNeighborsClassifier\n",
        "from sklearn.metrics import confusion_matrix, f1_score\n"
      ]
    },
    {
      "cell_type": "code",
      "source": [
        "warnings.filterwarnings('ignore')\n",
        "\n",
        "iris = load_iris()\n",
        "X = iris.data  # Features\n",
        "y = iris.target  # Labels\n",
        "\n",
        "# Split dataset into training and testing\n",
        "x_train, x_test, y_train, y_test = train_test_split(X, y, test_size=0.2, random_state=42)"
      ],
      "metadata": {
        "id": "rrXRd6nHnlVp"
      },
      "execution_count": 18,
      "outputs": []
    },
    {
      "cell_type": "code",
      "source": [
        "knn = KNeighborsClassifier(n_neighbors=3)\n",
        "knn.fit(x_train,y_train)\n",
        "cm=confusion_matrix(y_test,knn.predict(x_test))\n",
        "sns.heatmap(cm, annot=True, cmap=\"Blues\", fmt=\"d\", xticklabels=iris.target_names, yticklabels=iris.target_names)\n",
        "plt.xlabel(\"Predicted Labels\")\n",
        "plt.ylabel(\"True Labels\")\n",
        "plt.title(\"Confusion Matrix:\\n  KNN applied on Iris Dataset\")\n",
        "plt.show()\n",
        "y_pred=knn.predict(x_test)"
      ],
      "metadata": {
        "colab": {
          "base_uri": "https://localhost:8080/",
          "height": 493
        },
        "id": "6ymc_N7hlmHf",
        "outputId": "918534d9-80a6-4f45-a3f4-1f69385f43bd"
      },
      "execution_count": 19,
      "outputs": [
        {
          "output_type": "display_data",
          "data": {
            "text/plain": [
              "<Figure size 640x480 with 2 Axes>"
            ],
            "image/png": "[encoded data removed]"
          },
          "metadata": {}
        }
      ]
    },
    {
      "cell_type": "code",
      "source": [
        "# Compute F1-score (weighted for multi-class classification)\n",
        "# f1 = f1_score(y_test, y_pred, average='weighted')\n",
        "\n",
        "# Loop through different values of n_neighbors\n",
        "for k in range(1, 16):\n",
        "    knn = KNeighborsClassifier(n_neighbors=k)\n",
        "    knn.fit(x_train, y_train)\n",
        "    y_pred = knn.predict(x_test)\n",
        "    f1 = f1_score(y_test, y_pred, average='weighted')\n",
        "    print(f\"F1-score for k={k}: {f1}\")\n"
      ],
      "metadata": {
        "colab": {
          "base_uri": "https://localhost:8080/"
        },
        "id": "hzrWQ5UBm16I",
        "outputId": "e2c7798d-85a7-4f5f-a114-7dd2282df8ed"
      },
      "execution_count": 25,
      "outputs": [
        {
          "output_type": "stream",
          "name": "stdout",
          "text": [
            "F1-score for k=1: 1.0\n",
            "F1-score for k=2: 1.0\n",
            "F1-score for k=3: 1.0\n",
            "F1-score for k=4: 1.0\n",
            "F1-score for k=5: 1.0\n",
            "F1-score for k=6: 1.0\n",
            "F1-score for k=7: 0.9664109121909632\n",
            "F1-score for k=8: 1.0\n",
            "F1-score for k=9: 1.0\n",
            "F1-score for k=10: 1.0\n",
            "F1-score for k=11: 1.0\n",
            "F1-score for k=12: 1.0\n",
            "F1-score for k=13: 1.0\n",
            "F1-score for k=14: 1.0\n",
            "F1-score for k=15: 1.0\n"
          ]
        }
      ]
    },
    {
      "cell_type": "code",
      "source": [
        "\n",
        "# Calculate symmetric class variance\n",
        "def symmetric_class_variance(y_true, y_pred):\n",
        "    cm = confusion_matrix(y_true, y_pred)\n",
        "    n_classes = len(cm)\n",
        "    variance = 5\n",
        "\n",
        "    for i in range(n_classes):\n",
        "        for j in range(n_classes):\n",
        "            if i != j:\n",
        "                variance += cm[i, j]\n",
        "\n",
        "    return variance / np.sum(cm)\n",
        "\n",
        "scv = symmetric_class_variance(y_test, y_pred)\n",
        "print(f\"Symmetric Class Variance: {scv:.4f}\")\n"
      ],
      "metadata": {
        "colab": {
          "base_uri": "https://localhost:8080/"
        },
        "id": "OmmvksVTqwPw",
        "outputId": "925ee796-da84-4895-bdb5-6c3bdb6e04f2"
      },
      "execution_count": 23,
      "outputs": [
        {
          "output_type": "stream",
          "name": "stdout",
          "text": [
            "Symmetric Class Variance: 0.1667\n"
          ]
        }
      ]
    },
    {
      "cell_type": "code",
      "source": [
        "# prompt: #Display number of occurences of each class/categories found in the labels\n",
        "\n",
        "from collections import Counter\n",
        "\n",
        "label_counts = Counter(y)\n",
        "\n",
        "# Print the number of occurrences of each class\n",
        "for label, count in label_counts.items():\n",
        "    print(f\"Class {label}: {count} occurrences\")\n"
      ],
      "metadata": {
        "colab": {
          "base_uri": "https://localhost:8080/"
        },
        "id": "kOKrB_GmuDbi",
        "outputId": "52197af5-debe-4b9a-c548-733c125e9c60"
      },
      "execution_count": 26,
      "outputs": [
        {
          "output_type": "stream",
          "name": "stdout",
          "text": [
            "Class 0: 50 occurrences\n",
            "Class 1: 50 occurrences\n",
            "Class 2: 50 occurrences\n"
          ]
        }
      ]
    },
    {
      "cell_type": "code",
      "source": [],
      "metadata": {
        "id": "w9m_b9VmrM4V"
      },
      "execution_count": null,
      "outputs": []
    }
  ]
}