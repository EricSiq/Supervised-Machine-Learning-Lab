{
  "nbformat": 4,
  "nbformat_minor": 0,
  "metadata": {
    "colab": {
      "provenance": [],
      "authorship_tag": "ABX9TyMOjyi+6hmPO16lliV50oU9",
      "include_colab_link": true
    },
    "kernelspec": {
      "name": "python3",
      "display_name": "Python 3"
    },
    "language_info": {
      "name": "python"
    }
  },
  "cells": [
    {
      "cell_type": "markdown",
      "metadata": {
        "id": "view-in-github",
        "colab_type": "text"
      },
      "source": [
        "<a href=\"https://colab.research.google.com/github/EricSiq/Supervised-Machine-Learning-Lab/blob/main/KNN_SML_Assn5.ipynb\" target=\"_parent\"><img src=\"https://colab.research.google.com/assets/colab-badge.svg\" alt=\"Open In Colab\"/></a>"
      ]
    },
    {
      "cell_type": "code",
      "execution_count": null,
      "metadata": {
        "id": "G_g7Gm18y2TG"
      },
      "outputs": [],
      "source": [
        "'''\n",
        "Title: Implementation of Implementation of K-Nearest Neighbors (KNN) for Classification\n",
        "Aim: To apply the K-Nearest Neighbors (KNN) algorithm for classification and to understand its mechanism and performance.\n",
        "\n",
        "Problem statement:\n",
        "Use the given dataset(s) to demonstrate the application of K-Nearest Neighbors (KNN) classification. The task is to identify the class of the query instance using k-nearest neighbors.\n",
        "'''"
      ]
    },
    {
      "cell_type": "code",
      "source": [
        "class Cars:\n",
        "    def __init__(self, Make, Model, Variant, ExShowroom_Price, Displacement, Cylinders):\n",
        "        self.Make = Make\n",
        "        self.Model = Model\n",
        "        self.Variant = Variant\n",
        "        self.ExShowroom_Price = ExShowroom_Price\n",
        "        self.Displacement = Displacement\n",
        "        self.Cylinders = Cylinders\n",
        "\n",
        "\n",
        "    def __str__(self):\n",
        "        return f\"{self.Make} {self.Model}  , Model: ({self.Variant}) \\nExShowroom_Price: {self.ExShowroom_Price}, Displacement: {self.Displacement}, with {self.Cylinders} Cylinders\"\n",
        "\n",
        "c1 = Cars(\"Tata\", \"Nano Genx\", \"Xt\", \"Rs. 2,92,667\", \"624 cc\", 2)\n",
        "\n",
        "print(c1)\n"
      ],
      "metadata": {
        "colab": {
          "base_uri": "https://localhost:8080/"
        },
        "id": "2TMkPmuP7Qpe",
        "outputId": "38f94c38-54c2-4a41-898c-36d16103b51e"
      },
      "execution_count": null,
      "outputs": [
        {
          "output_type": "stream",
          "name": "stdout",
          "text": [
            "Tata Nano Genx  , Model: (Xt) \n",
            "ExShowroom_Price: Rs. 2,92,667, Displacement: 624 cc, with 2 Cylinders\n"
          ]
        }
      ]
    },
    {
      "cell_type": "code",
      "source": [
        "import pandas as pd\n",
        "from sklearn.model_selection import train_test_split\n",
        "from sklearn.preprocessing import StandardScaler, LabelEncoder\n",
        "from sklearn.neighbors import KNeighborsClassifier\n",
        "from sklearn.metrics import classification_report, accuracy_score\n",
        "\n",
        "# Load the dataset\n",
        "file_path = 'cars2.csv'\n",
        "data = pd.read_csv(file_path)\n",
        "\n"
      ],
      "metadata": {
        "id": "XfIcQ0PO8kJH"
      },
      "execution_count": null,
      "outputs": []
    },
    {
      "cell_type": "code",
      "source": [
        "# Select relevant features and target variable\n",
        "features = ['Ex-Showroom_Price', 'Displacement', 'Cylinders']\n",
        "target = 'Make'\n",
        "\n",
        "# Convert 'Ex-Showroom_Price' to numeric by removing 'Rs.' and commas\n",
        "data['Ex-Showroom_Price'] = data['Ex-Showroom_Price'].replace('[Rs.,]', '', regex=True).astype(float)\n",
        "\n",
        "# Convert 'Displacement' to numeric by removing non-numeric characters\n",
        "data['Displacement'] = data['Displacement'].replace('[cc,]', '', regex=True).astype(float)\n",
        "\n",
        "# Handle missing values by filling with the mean of the column\n",
        "data[features] = data[features].fillna(data[features].mean())\n",
        "\n",
        "# Ensure 'Make' contains only strings\n",
        "data['Make'] = data['Make'].astype(str)\n",
        "\n",
        "# Check for mixed types\n",
        "print(data['Make'].apply(type).value_counts())\n",
        "\n",
        "# Encode categorical target variable\n",
        "label_encoder = LabelEncoder()\n",
        "data['Make'] = label_encoder.fit_transform(data['Make'])\n"
      ],
      "metadata": {
        "colab": {
          "base_uri": "https://localhost:8080/"
        },
        "id": "xKtmNuWSZN6f",
        "outputId": "d3e2c588-48b1-4e87-fe5b-035d6781b9e1"
      },
      "execution_count": null,
      "outputs": [
        {
          "output_type": "stream",
          "name": "stdout",
          "text": [
            "Make\n",
            "<class 'str'>    1276\n",
            "Name: count, dtype: int64\n"
          ]
        }
      ]
    },
    {
      "cell_type": "code",
      "source": [
        "\n",
        "# Split the data into training and testing sets\n",
        "X = data[features]\n",
        "y = data[target]\n",
        "X_train, X_test, y_train, y_test = train_test_split(X, y, test_size=0.2, random_state=42)\n",
        "\n",
        "# Standardize the features\n",
        "scaler = StandardScaler()\n",
        "X_train = scaler.fit_transform(X_train)\n",
        "X_test = scaler.transform(X_test)\n",
        "\n",
        "# Train the KNN classifier\n",
        "knn = KNeighborsClassifier(n_neighbors=5)\n",
        "knn.fit(X_train, y_train)\n",
        "\n",
        "# Predict the class of the query instance\n",
        "y_pred = knn.predict(X_test)\n",
        "\n",
        "# Evaluate the classifier\n",
        "accuracy = accuracy_score(y_test, y_pred)\n",
        "report = classification_report(y_test, y_pred, labels=sorted(set(y_test)))\n",
        "\n",
        "print(f\"Accuracy: {accuracy}\")\n",
        "print(\"Classification Report:\")\n",
        "print(report)\n"
      ],
      "metadata": {
        "id": "KYqHRxqxb5zU",
        "outputId": "9b0bcc05-6c4b-4407-e3f3-e88c8321c3ac",
        "colab": {
          "base_uri": "https://localhost:8080/"
        }
      },
      "execution_count": null,
      "outputs": [
        {
          "output_type": "stream",
          "name": "stdout",
          "text": [
            "Accuracy: 0.453125\n",
            "Classification Report:\n",
            "              precision    recall  f1-score   support\n",
            "\n",
            "           1       0.18      0.33      0.24         6\n",
            "           3       0.20      0.15      0.17        13\n",
            "           4       0.31      0.42      0.36        12\n",
            "           5       0.67      0.86      0.75        28\n",
            "           6       1.00      0.50      0.67         2\n",
            "           7       0.00      0.00      0.00         2\n",
            "           8       0.33      0.67      0.44         3\n",
            "           9       1.00      1.00      1.00         7\n",
            "          10       0.20      0.50      0.29         2\n",
            "          11       0.67      0.67      0.67         3\n",
            "          12       0.00      0.00      0.00         1\n",
            "          13       0.00      0.00      0.00         1\n",
            "          14       0.14      1.00      0.25         1\n",
            "          15       0.50      0.50      0.50         2\n",
            "          16       0.38      0.52      0.44        23\n",
            "          17       0.52      0.69      0.59        32\n",
            "          18       0.00      0.00      0.00         3\n",
            "          19       1.00      0.67      0.80         3\n",
            "          20       0.00      0.00      0.00         4\n",
            "          21       1.00      0.33      0.50         3\n",
            "          22       1.00      1.00      1.00         2\n",
            "          23       0.00      0.00      0.00         2\n",
            "          24       1.00      0.14      0.25         7\n",
            "          25       0.00      0.00      0.00         3\n",
            "          26       0.00      0.00      0.00         2\n",
            "          27       0.50      0.20      0.29         5\n",
            "          28       0.80      0.36      0.50        11\n",
            "          29       0.36      0.26      0.30        19\n",
            "          30       0.67      0.56      0.61        18\n",
            "          31       0.20      0.25      0.22         4\n",
            "          32       0.67      1.00      0.80         2\n",
            "          33       0.44      0.31      0.36        13\n",
            "          34       0.00      0.00      0.00         8\n",
            "          35       0.00      0.00      0.00         1\n",
            "          36       0.00      0.00      0.00         2\n",
            "          38       0.50      1.00      0.67         1\n",
            "          39       0.00      0.00      0.00         5\n",
            "\n",
            "    accuracy                           0.45       256\n",
            "   macro avg       0.38      0.38      0.34       256\n",
            "weighted avg       0.46      0.45      0.43       256\n",
            "\n"
          ]
        },
        {
          "output_type": "stream",
          "name": "stderr",
          "text": [
            "/usr/local/lib/python3.11/dist-packages/sklearn/metrics/_classification.py:1565: UndefinedMetricWarning: Precision is ill-defined and being set to 0.0 in labels with no predicted samples. Use `zero_division` parameter to control this behavior.\n",
            "  _warn_prf(average, modifier, f\"{metric.capitalize()} is\", len(result))\n",
            "/usr/local/lib/python3.11/dist-packages/sklearn/metrics/_classification.py:1565: UndefinedMetricWarning: Precision is ill-defined and being set to 0.0 in labels with no predicted samples. Use `zero_division` parameter to control this behavior.\n",
            "  _warn_prf(average, modifier, f\"{metric.capitalize()} is\", len(result))\n",
            "/usr/local/lib/python3.11/dist-packages/sklearn/metrics/_classification.py:1565: UndefinedMetricWarning: Precision is ill-defined and being set to 0.0 in labels with no predicted samples. Use `zero_division` parameter to control this behavior.\n",
            "  _warn_prf(average, modifier, f\"{metric.capitalize()} is\", len(result))\n"
          ]
        }
      ]
    },
    {
      "cell_type": "code",
      "source": [],
      "metadata": {
        "id": "zlWC5O7Pb6mx"
      },
      "execution_count": null,
      "outputs": []
    }
  ]
}