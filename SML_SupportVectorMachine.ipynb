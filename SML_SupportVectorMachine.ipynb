{
  "nbformat": 4,
  "nbformat_minor": 0,
  "metadata": {
    "colab": {
      "provenance": [],
      "authorship_tag": "ABX9TyPB33+3Pl8M2NuPQR4+Ec8h",
      "include_colab_link": true
    },
    "kernelspec": {
      "name": "python3",
      "display_name": "Python 3"
    },
    "language_info": {
      "name": "python"
    }
  },
  "cells": [
    {
      "cell_type": "markdown",
      "metadata": {
        "id": "view-in-github",
        "colab_type": "text"
      },
      "source": [
        "<a href=\"https://colab.research.google.com/github/EricSiq/Supervised-Machine-Learning-Lab/blob/main/SML_SupportVectorMachine.ipynb\" target=\"_parent\"><img src=\"https://colab.research.google.com/assets/colab-badge.svg\" alt=\"Open In Colab\"/></a>"
      ]
    },
    {
      "cell_type": "code",
      "execution_count": 17,
      "metadata": {
        "id": "A-Aql4yXAxMf"
      },
      "outputs": [],
      "source": [
        "import pandas as pd  # For data manipulation and analysis (e.g., loading CSV files, DataFrame operations)\n",
        "import numpy as np  # For numerical computations and array operations\n",
        "from sklearn.svm import SVC  # To implement the Support Vector Machine algorithm for classification tasks\n",
        "from sklearn.preprocessing import StandardScaler  # For scaling features to improve model performance\n",
        "from sklearn.metrics import accuracy_score, classification_report, confusion_matrix  # To evaluate model performance with various metrics\n"
      ]
    },
    {
      "cell_type": "code",
      "source": [
        "# Define Data Cleaning Functions\n",
        "def clean_loan_id(df):\n",
        "#Remove the 'LP' prefix from the 'Loan_ID' column.\n",
        "\n",
        "    if 'Loan_ID' in df.columns:\n",
        "        df['Loan_ID'] = df['Loan_ID'].str.replace('LP', '', regex=False)\n",
        "    return df\n",
        "\n",
        "def handle_missing_values(df, categorical_cols):\n",
        "    \"\"\"\n",
        "    Fill missing values:\n",
        "    - For categorical columns: fill with the mode (most frequent value).\n",
        "    - For numerical columns: fill with the median.\n",
        "    \"\"\"\n",
        "    # Fill missing categorical values\n",
        "    for col in categorical_cols:\n",
        "        if col in df.columns:\n",
        "            df[col] = df[col].fillna(df[col].mode()[0])\n",
        "\n",
        "    # Fill missing values for numerical columns\n",
        "    num_cols = df.select_dtypes(include=['float64', 'int64']).columns\n",
        "    for col in num_cols:\n",
        "        df[col] = df[col].fillna(df[col].median())\n",
        "\n",
        "    return df"
      ],
      "metadata": {
        "id": "UU7YqPBoB8ur"
      },
      "execution_count": 24,
      "outputs": []
    },
    {
      "cell_type": "code",
      "source": [
        "#Define Categorical Columns\n",
        "categorical_cols = ['Gender', 'Married', 'Dependents', 'Self_Employed', 'Education', 'Property_Area']\n",
        "\n",
        "#Load and Clean the Training Data\n",
        "train = pd.read_csv('train.csv')\n",
        "train = clean_loan_id(train)\n",
        "train = handle_missing_values(train, categorical_cols)\n",
        "\n",
        "# Convert target to numeric: assuming 'Y' = 1, 'N' = 0\n",
        "train['Loan_Status'] = train['Loan_Status'].apply(lambda x: 1 if x == 'Y' else 0)"
      ],
      "metadata": {
        "id": "YFjAkfYuB0Pj"
      },
      "execution_count": 25,
      "outputs": []
    },
    {
      "cell_type": "code",
      "source": [
        "\n",
        "# Preprocess the Training Data\n",
        "# Apply one-hot encoding to categorical columns\n",
        "train_encoded = pd.get_dummies(train, columns=categorical_cols, drop_first=True)\n",
        "\n",
        "# Separate features and target\n",
        "X_train = train_encoded.drop('Loan_Status', axis=1)\n",
        "y_train = train_encoded['Loan_Status']\n",
        "\n",
        "# Scale numerical features (SVM benefits from feature scaling)\n",
        "scaler = StandardScaler()\n",
        "X_train_scaled = scaler.fit_transform(X_train)\n",
        "\n",
        "# Train the SVM Model\n",
        "svm_model = SVC(kernel='rbf', random_state=42)\n",
        "svm_model.fit(X_train_scaled, y_train)\n",
        "# Evaluate on training data (for reference)\n",
        "train_preds = svm_model.predict(X_train_scaled)\n",
        "print(\"Training Accuracy:\", accuracy_score(y_train, train_preds))\n",
        "print(\"Training Classification Report:\\n\", classification_report(y_train, train_preds))\n",
        "print(\"Training Confusion Matrix:\\n\", confusion_matrix(y_train, train_preds))"
      ],
      "metadata": {
        "colab": {
          "base_uri": "https://localhost:8080/"
        },
        "id": "6tXar_69B1pr",
        "outputId": "456d5726-b562-4925-eda2-eea817c25397"
      },
      "execution_count": 26,
      "outputs": [
        {
          "output_type": "stream",
          "name": "stdout",
          "text": [
            "Training Accuracy: 0.8273615635179153\n",
            "Training Classification Report:\n",
            "               precision    recall  f1-score   support\n",
            "\n",
            "           0       0.95      0.47      0.63       192\n",
            "           1       0.81      0.99      0.89       422\n",
            "\n",
            "    accuracy                           0.83       614\n",
            "   macro avg       0.88      0.73      0.76       614\n",
            "weighted avg       0.85      0.83      0.81       614\n",
            "\n",
            "Training Confusion Matrix:\n",
            " [[ 91 101]\n",
            " [  5 417]]\n"
          ]
        }
      ]
    },
    {
      "cell_type": "code",
      "source": [
        "\n",
        "# Load and Preprocess the Test Data\n",
        "test = pd.read_csv('test.csv')\n",
        "test = clean_loan_id(test)\n",
        "test = handle_missing_values(test, categorical_cols)\n",
        "\n",
        "# Check if test set has the target column for evaluation\n",
        "has_target = 'Loan_Status' in test.columns\n",
        "if has_target:\n",
        "    test['Loan_Status'] = test['Loan_Status'].apply(lambda x: 1 if x == 'Y' else 0)\n",
        "\n",
        "# Apply one-hot encoding to test data using the same categorical columns\n",
        "test_encoded = pd.get_dummies(test, columns=categorical_cols, drop_first=True)\n",
        "\n",
        "# Ensure the test set has the same columns as the training set (excluding the target)\n",
        "X_test = test_encoded.copy()\n",
        "if has_target:\n",
        "    X_test = X_test.drop('Loan_Status', axis=1)\n",
        "X_test = X_test.reindex(columns=X_train.columns, fill_value=0)\n",
        "\n",
        "# Scale test data using the same scaler\n",
        "X_test_scaled = scaler.transform(X_test)"
      ],
      "metadata": {
        "id": "0_0VATkiB3Hf"
      },
      "execution_count": 27,
      "outputs": []
    },
    {
      "cell_type": "code",
      "source": [
        "#  Make Predictions on the Test Data\n",
        "test_preds = svm_model.predict(X_test_scaled)\n",
        "\n",
        "if has_target:\n",
        "    y_test = test_encoded['Loan_Status']\n",
        "    print(\"Test Accuracy:\", accuracy_score(y_test, test_preds))\n",
        "    print(\"Test Classification Report:\\n\", classification_report(y_test, test_preds))\n",
        "    print(\"Test Confusion Matrix:\\n\", confusion_matrix(y_test, test_preds))\n",
        "else:\n",
        "    # If no target column is present, output predictions\n",
        "    test['Predicted_Loan_Status'] = np.where(test_preds == 1, 'Y', 'N')\n",
        "    print(\"Predictions on test data:\")\n",
        "    print(test[['Loan_ID', 'Predicted_Loan_Status']].head())\n",
        "\n",
        "# Optionally, save predictions to a CSV file\n",
        "test.to_csv('test_predictions.csv', index=False)\n"
      ],
      "metadata": {
        "colab": {
          "base_uri": "https://localhost:8080/"
        },
        "id": "Un5DN-bJB-3H",
        "outputId": "f17a55fc-dfd0-4e50-8f16-73ff2bb39ad7"
      },
      "execution_count": 28,
      "outputs": [
        {
          "output_type": "stream",
          "name": "stdout",
          "text": [
            "Predictions on test data:\n",
            "  Loan_ID Predicted_Loan_Status\n",
            "0  001015                     Y\n",
            "1  001022                     Y\n",
            "2  001031                     Y\n",
            "3  001035                     Y\n",
            "4  001051                     Y\n"
          ]
        }
      ]
    },
    {
      "cell_type": "code",
      "source": [],
      "metadata": {
        "id": "tNpU3RCyENTn"
      },
      "execution_count": null,
      "outputs": []
    }
  ]
}