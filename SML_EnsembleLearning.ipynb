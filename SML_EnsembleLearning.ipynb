{
  "nbformat": 4,
  "nbformat_minor": 0,
  "metadata": {
    "colab": {
      "provenance": [],
      "authorship_tag": "ABX9TyOvub/XiWfdu/0inPOOhoMD",
      "include_colab_link": true
    },
    "kernelspec": {
      "name": "python3",
      "display_name": "Python 3"
    },
    "language_info": {
      "name": "python"
    }
  },
  "cells": [
    {
      "cell_type": "markdown",
      "metadata": {
        "id": "view-in-github",
        "colab_type": "text"
      },
      "source": [
        "<a href=\"https://colab.research.google.com/github/EricSiq/Supervised-Machine-Learning-Lab/blob/main/SML_EnsembleLearning.ipynb\" target=\"_parent\"><img src=\"https://colab.research.google.com/assets/colab-badge.svg\" alt=\"Open In Colab\"/></a>"
      ]
    },
    {
      "cell_type": "code",
      "execution_count": 2,
      "metadata": {
        "id": "Tc0Uf1PiTtbc"
      },
      "outputs": [],
      "source": [
        "# Import libraries\n",
        "import pandas as pd\n",
        "import numpy as np\n",
        "import seaborn as sns\n",
        "import matplotlib.pyplot as plt\n",
        "from sklearn.ensemble import RandomForestClassifier\n",
        "from sklearn.model_selection import train_test_split\n",
        "from sklearn.metrics import classification_report, accuracy_score, confusion_matrix\n",
        "\n",
        "# Load dataset\n",
        "df = pd.read_csv('penguins_size.csv')\n"
      ]
    },
    {
      "cell_type": "code",
      "source": [
        "\n",
        "# Preview data\n",
        "print(\"First few rows of the dataset:\")\n",
        "print(df.head())\n"
      ],
      "metadata": {
        "colab": {
          "base_uri": "https://localhost:8080/"
        },
        "id": "mj4sU6a8UWAS",
        "outputId": "b0cf9cf7-d7c0-47fc-cb23-3c20667d8eae"
      },
      "execution_count": 3,
      "outputs": [
        {
          "output_type": "stream",
          "name": "stdout",
          "text": [
            "First few rows of the dataset:\n",
            "  species     island  culmen_length_mm  culmen_depth_mm  flipper_length_mm  \\\n",
            "0  Adelie  Torgersen              39.1             18.7              181.0   \n",
            "1  Adelie  Torgersen              39.5             17.4              186.0   \n",
            "2  Adelie  Torgersen              40.3             18.0              195.0   \n",
            "3  Adelie  Torgersen               NaN              NaN                NaN   \n",
            "4  Adelie  Torgersen              36.7             19.3              193.0   \n",
            "\n",
            "   body_mass_g     sex  \n",
            "0       3750.0    MALE  \n",
            "1       3800.0  FEMALE  \n",
            "2       3250.0  FEMALE  \n",
            "3          NaN     NaN  \n",
            "4       3450.0  FEMALE  \n"
          ]
        }
      ]
    },
    {
      "cell_type": "code",
      "source": [
        "\n",
        "# Select relevant numeric features\n",
        "features = ['culmen_length_mm', 'culmen_depth_mm', 'flipper_length_mm']\n",
        "target = 'species'\n",
        "\n",
        "# Drop rows with missing values in selected columns\n",
        "df = df.dropna(subset=features + [target])\n",
        "\n"
      ],
      "metadata": {
        "id": "fc1cvnlpUdQ6"
      },
      "execution_count": 4,
      "outputs": []
    },
    {
      "cell_type": "code",
      "source": [
        "\n",
        "# Encode target variable\n",
        "df[target] = df[target].astype('category').cat.codes  # species: 0, 1, 2\n",
        "\n",
        "# Define X and y\n",
        "X = df[features]\n",
        "y = df[target]\n",
        "\n",
        "# Train-test split\n",
        "X_train, X_test, y_train, y_test = train_test_split(X, y, test_size=0.2, random_state=42)\n"
      ],
      "metadata": {
        "id": "atI76tpGUepS"
      },
      "execution_count": 5,
      "outputs": []
    },
    {
      "cell_type": "code",
      "source": [
        "\n",
        "# Initialize and train Random Forest Classifier\n",
        "rf_model = RandomForestClassifier(n_estimators=100, random_state=42)\n",
        "rf_model.fit(X_train, y_train)\n",
        "\n",
        "# Predictions\n",
        "y_pred = rf_model.predict(X_test)\n"
      ],
      "metadata": {
        "id": "JIasmyqaUf8D"
      },
      "execution_count": 6,
      "outputs": []
    },
    {
      "cell_type": "code",
      "source": [
        "\n",
        "# Evaluation\n",
        "print(\"\\nAccuracy Score:\", accuracy_score(y_test, y_pred))\n",
        "print(\"\\nClassification Report:\\n\", classification_report(y_test, y_pred))\n"
      ],
      "metadata": {
        "colab": {
          "base_uri": "https://localhost:8080/"
        },
        "id": "CBF5loQ9Ug6b",
        "outputId": "e265f3cc-93ae-4199-983e-96df5b018090"
      },
      "execution_count": 7,
      "outputs": [
        {
          "output_type": "stream",
          "name": "stdout",
          "text": [
            "\n",
            "Accuracy Score: 0.9565217391304348\n",
            "\n",
            "Classification Report:\n",
            "               precision    recall  f1-score   support\n",
            "\n",
            "           0       1.00      0.91      0.96        35\n",
            "           1       0.80      1.00      0.89        12\n",
            "           2       1.00      1.00      1.00        22\n",
            "\n",
            "    accuracy                           0.96        69\n",
            "   macro avg       0.93      0.97      0.95        69\n",
            "weighted avg       0.97      0.96      0.96        69\n",
            "\n"
          ]
        }
      ]
    },
    {
      "cell_type": "code",
      "source": [
        "\n",
        "# Confusion Matrix\n",
        "conf_matrix = confusion_matrix(y_test, y_pred)\n",
        "sns.heatmap(conf_matrix, annot=True, fmt='d', cmap='Blues',\n",
        "            xticklabels=df['species'].astype('category').cat.categories,\n",
        "            yticklabels=df['species'].astype('category').cat.categories)\n",
        "plt.title('Confusion Matrix')\n",
        "plt.xlabel('Predicted')\n",
        "plt.ylabel('Actual')\n",
        "plt.show()"
      ],
      "metadata": {
        "colab": {
          "base_uri": "https://localhost:8080/",
          "height": 472
        },
        "id": "b83A34xsUiiu",
        "outputId": "c80a72bf-b2eb-4220-e21f-4e70e5c65f07"
      },
      "execution_count": 8,
      "outputs": [
        {
          "output_type": "display_data",
          "data": {
            "text/plain": [
              "<Figure size 640x480 with 2 Axes>"
            ],
            "image/png": "[encoded data removed]"
          },
          "metadata": {}
        }
      ]
    },
    {
      "cell_type": "code",
      "source": [
        "\n",
        "\n",
        "# Feature Importance\n",
        "importances = rf_model.feature_importances_\n",
        "feature_imp_df = pd.DataFrame({'Feature': features, 'Importance': importances})\n",
        "feature_imp_df = feature_imp_df.sort_values(by='Importance', ascending=False)\n"
      ],
      "metadata": {
        "id": "sqrFaYmjUjRG"
      },
      "execution_count": 9,
      "outputs": []
    },
    {
      "cell_type": "code",
      "source": [
        "\n",
        "# Plot Feature Importances\n",
        "sns.barplot(data=feature_imp_df, x='Importance', y='Feature', palette='viridis')\n",
        "plt.title('Feature Importance from Random Forest')\n",
        "plt.show()"
      ],
      "metadata": {
        "colab": {
          "base_uri": "https://localhost:8080/",
          "height": 559
        },
        "id": "9XKlSQ-8UkGe",
        "outputId": "7e7e5bf6-fd61-4910-b63d-344665e2b3f2"
      },
      "execution_count": 10,
      "outputs": [
        {
          "output_type": "stream",
          "name": "stderr",
          "text": [
            "<ipython-input-10-152024d1251e>:2: FutureWarning: \n",
            "\n",
            "Passing `palette` without assigning `hue` is deprecated and will be removed in v0.14.0. Assign the `y` variable to `hue` and set `legend=False` for the same effect.\n",
            "\n",
            "  sns.barplot(data=feature_imp_df, x='Importance', y='Feature', palette='viridis')\n"
          ]
        },
        {
          "output_type": "display_data",
          "data": {
            "text/plain": [
              "<Figure size 640x480 with 1 Axes>"
            ],
            "image/png": "[encoded data removed]"
          },
          "metadata": {}
        }
      ]
    }
  ]
}