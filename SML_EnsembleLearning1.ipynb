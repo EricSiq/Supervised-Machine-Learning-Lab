{
  "nbformat": 4,
  "nbformat_minor": 0,
  "metadata": {
    "colab": {
      "provenance": [],
      "authorship_tag": "ABX9TyMFoWsuXLeocK2LJ7dF5R95",
      "include_colab_link": true
    },
    "kernelspec": {
      "name": "python3",
      "display_name": "Python 3"
    },
    "language_info": {
      "name": "python"
    }
  },
  "cells": [
    {
      "cell_type": "markdown",
      "metadata": {
        "id": "view-in-github",
        "colab_type": "text"
      },
      "source": [
        "<a href=\"https://colab.research.google.com/github/EricSiq/Supervised-Machine-Learning-Lab/blob/main/SML_EnsembleLearning1.ipynb\" target=\"_parent\"><img src=\"https://colab.research.google.com/assets/colab-badge.svg\" alt=\"Open In Colab\"/></a>"
      ]
    },
    {
      "cell_type": "code",
      "source": [
        "\n",
        "# Install necessary libraries\n",
        "!pip install xgboost"
      ],
      "metadata": {
        "colab": {
          "base_uri": "https://localhost:8080/"
        },
        "id": "yb5LK6qM_QgN",
        "outputId": "3e0e1f12-1c72-45c8-a464-45a979d3ae54"
      },
      "execution_count": 1,
      "outputs": [
        {
          "output_type": "stream",
          "name": "stdout",
          "text": [
            "Requirement already satisfied: xgboost in /usr/local/lib/python3.11/dist-packages (2.1.4)\n",
            "Requirement already satisfied: numpy in /usr/local/lib/python3.11/dist-packages (from xgboost) (2.0.2)\n",
            "Requirement already satisfied: nvidia-nccl-cu12 in /usr/local/lib/python3.11/dist-packages (from xgboost) (2.21.5)\n",
            "Requirement already satisfied: scipy in /usr/local/lib/python3.11/dist-packages (from xgboost) (1.14.1)\n"
          ]
        }
      ]
    },
    {
      "cell_type": "code",
      "execution_count": 4,
      "metadata": {
        "id": "bpP8Y-g0-QcJ"
      },
      "outputs": [],
      "source": [
        "# Import necessary libraries\n",
        "from sklearn.model_selection import train_test_split\n",
        "from sklearn.ensemble import RandomForestClassifier\n",
        "from xgboost import XGBClassifier\n",
        "from sklearn.metrics import accuracy_score, classification_report\n",
        "import pandas as pd\n",
        "import seaborn as sns\n",
        "import matplotlib.pyplot as plt\n",
        "import numpy as np\n",
        "from scipy.stats import norm\n",
        "from sklearn.preprocessing import StandardScaler\n",
        "from scipy import stats\n",
        "import warnings\n",
        "warnings.filterwarnings('ignore')"
      ]
    },
    {
      "cell_type": "code",
      "source": [
        "heartdata=pd.read_csv(\"heart.csv\")"
      ],
      "metadata": {
        "id": "vdGkeGA7_WQD"
      },
      "execution_count": 6,
      "outputs": []
    },
    {
      "cell_type": "code",
      "source": [
        "\n",
        "# Prepare the data\n",
        "X = heartdata.drop('target', axis=1)\n",
        "y = heartdata['target']\n",
        "X_train, X_test, y_train, y_test = train_test_split(X, y, test_size=0.2, random_state=42)\n",
        "\n",
        "# Random Forest\n",
        "rf_classifier = RandomForestClassifier(n_estimators=100, random_state=42)\n",
        "rf_classifier.fit(X_train, y_train)\n",
        "rf_predictions = rf_classifier.predict(X_test)\n",
        "\n",
        "# Evaluate Random Forest\n",
        "rf_accuracy = accuracy_score(y_test, rf_predictions)\n",
        "print(f\"Random Forest Accuracy: {rf_accuracy}\")\n",
        "print(classification_report(y_test, rf_predictions))\n",
        "\n",
        "# XGBoost\n",
        "xgb_classifier = XGBClassifier(random_state=42)\n",
        "xgb_classifier.fit(X_train, y_train)\n",
        "xgb_predictions = xgb_classifier.predict(X_test)\n",
        "\n",
        "# Evaluate XGBoost\n",
        "xgb_accuracy = accuracy_score(y_test, xgb_predictions)\n",
        "print(f\"XGBoost Accuracy: {xgb_accuracy}\")\n",
        "print(classification_report(y_test, xgb_predictions))\n"
      ],
      "metadata": {
        "colab": {
          "base_uri": "https://localhost:8080/"
        },
        "id": "0HFq3PXN-8ec",
        "outputId": "80417315-ef73-4e94-ac37-43148ae998c1"
      },
      "execution_count": 7,
      "outputs": [
        {
          "output_type": "stream",
          "name": "stdout",
          "text": [
            "Random Forest Accuracy: 0.9853658536585366\n",
            "              precision    recall  f1-score   support\n",
            "\n",
            "           0       0.97      1.00      0.99       102\n",
            "           1       1.00      0.97      0.99       103\n",
            "\n",
            "    accuracy                           0.99       205\n",
            "   macro avg       0.99      0.99      0.99       205\n",
            "weighted avg       0.99      0.99      0.99       205\n",
            "\n",
            "XGBoost Accuracy: 0.9853658536585366\n",
            "              precision    recall  f1-score   support\n",
            "\n",
            "           0       0.97      1.00      0.99       102\n",
            "           1       1.00      0.97      0.99       103\n",
            "\n",
            "    accuracy                           0.99       205\n",
            "   macro avg       0.99      0.99      0.99       205\n",
            "weighted avg       0.99      0.99      0.99       205\n",
            "\n"
          ]
        }
      ]
    },
    {
      "cell_type": "code",
      "source": [],
      "metadata": {
        "id": "ug9x5YPg_jUM"
      },
      "execution_count": null,
      "outputs": []
    }
  ]
}